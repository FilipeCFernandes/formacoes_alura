{
 "cells": [
  {
   "cell_type": "markdown",
   "id": "7bdd3e72",
   "metadata": {},
   "source": [
    "# Aula 02 - Avançando e explorando os dados\n",
    "\n"
   ]
  },
  {
   "cell_type": "code",
   "execution_count": 2,
   "id": "feb2312b",
   "metadata": {},
   "outputs": [
    {
     "name": "stdout",
     "output_type": "stream",
     "text": [
      "Carregando a base de dados\n",
      "Dados Carregados com sucesso\n",
      "Como 73.64% dos dados da coluna estão comprometidos, vale a pena removê-la como um todo\n",
      "Os dados foram divididos em treino e teste, com as proporções 70%% - 30%%\n",
      "Classificador random foreste inicializado e treinado\n",
      "O resultado da classificação foi de 92.40%\n",
      "Resultado da classificação boba 66.67%\n"
     ]
    }
   ],
   "source": [
    "# Roda todos os tratamento realizados na aula anterior, além de carregar todas as variáveis\n",
    "\n",
    "%run ./Aula_01.ipynb"
   ]
  },
  {
   "cell_type": "markdown",
   "id": "21169f39",
   "metadata": {},
   "source": [
    "## Plotando os dados\n",
    "É interessante analisar como as características das amostras se relacionam com as classes. Para realizar essa análise, vamos criar gráficos de violino para cada característica da amostra (representada pelos exames), agrupando-as de acordo com suas classes (neste exemplo, o diagnóstico do paciente). Essa abordagem nos permitirá visualmente avaliar a influência de uma característica (exame) no diagnóstico final. Caso os intervalos de valores para a mesma característica se sobreponham entre os dois diagnósticos, ficará evidente que essa característica não desempenha um papel significativo no diagnóstico final do paciente.\n",
    "\n",
    "### Ajuste dos dados.\n",
    "-  Organizar um dataframe com o diagnóstico e os exames\n",
    "-  Criar um novo dataframe em \"formato longo\" relacionando cada exame com o seu diagnóstico "
   ]
  },
  {
   "cell_type": "code",
   "execution_count": 9,
   "id": "fbfda0f3",
   "metadata": {},
   "outputs": [
    {
     "data": {
      "text/html": [
       "<div>\n",
       "<style scoped>\n",
       "    .dataframe tbody tr th:only-of-type {\n",
       "        vertical-align: middle;\n",
       "    }\n",
       "\n",
       "    .dataframe tbody tr th {\n",
       "        vertical-align: top;\n",
       "    }\n",
       "\n",
       "    .dataframe thead th {\n",
       "        text-align: right;\n",
       "    }\n",
       "</style>\n",
       "<table border=\"1\" class=\"dataframe\">\n",
       "  <thead>\n",
       "    <tr style=\"text-align: right;\">\n",
       "      <th></th>\n",
       "      <th>diagnostico</th>\n",
       "      <th>exames</th>\n",
       "      <th>valores</th>\n",
       "    </tr>\n",
       "  </thead>\n",
       "  <tbody>\n",
       "    <tr>\n",
       "      <th>0</th>\n",
       "      <td>M</td>\n",
       "      <td>exame_1</td>\n",
       "      <td>17.99000</td>\n",
       "    </tr>\n",
       "    <tr>\n",
       "      <th>1</th>\n",
       "      <td>M</td>\n",
       "      <td>exame_1</td>\n",
       "      <td>20.57000</td>\n",
       "    </tr>\n",
       "    <tr>\n",
       "      <th>2</th>\n",
       "      <td>M</td>\n",
       "      <td>exame_1</td>\n",
       "      <td>19.69000</td>\n",
       "    </tr>\n",
       "    <tr>\n",
       "      <th>3</th>\n",
       "      <td>M</td>\n",
       "      <td>exame_1</td>\n",
       "      <td>11.42000</td>\n",
       "    </tr>\n",
       "    <tr>\n",
       "      <th>4</th>\n",
       "      <td>M</td>\n",
       "      <td>exame_1</td>\n",
       "      <td>20.29000</td>\n",
       "    </tr>\n",
       "    <tr>\n",
       "      <th>...</th>\n",
       "      <td>...</td>\n",
       "      <td>...</td>\n",
       "      <td>...</td>\n",
       "    </tr>\n",
       "    <tr>\n",
       "      <th>18203</th>\n",
       "      <td>M</td>\n",
       "      <td>exame_32</td>\n",
       "      <td>0.07115</td>\n",
       "    </tr>\n",
       "    <tr>\n",
       "      <th>18204</th>\n",
       "      <td>M</td>\n",
       "      <td>exame_32</td>\n",
       "      <td>0.06637</td>\n",
       "    </tr>\n",
       "    <tr>\n",
       "      <th>18205</th>\n",
       "      <td>M</td>\n",
       "      <td>exame_32</td>\n",
       "      <td>0.07820</td>\n",
       "    </tr>\n",
       "    <tr>\n",
       "      <th>18206</th>\n",
       "      <td>M</td>\n",
       "      <td>exame_32</td>\n",
       "      <td>0.12400</td>\n",
       "    </tr>\n",
       "    <tr>\n",
       "      <th>18207</th>\n",
       "      <td>B</td>\n",
       "      <td>exame_32</td>\n",
       "      <td>0.07039</td>\n",
       "    </tr>\n",
       "  </tbody>\n",
       "</table>\n",
       "<p>18208 rows × 3 columns</p>\n",
       "</div>"
      ],
      "text/plain": [
       "      diagnostico    exames   valores\n",
       "0               M   exame_1  17.99000\n",
       "1               M   exame_1  20.57000\n",
       "2               M   exame_1  19.69000\n",
       "3               M   exame_1  11.42000\n",
       "4               M   exame_1  20.29000\n",
       "...           ...       ...       ...\n",
       "18203           M  exame_32   0.07115\n",
       "18204           M  exame_32   0.06637\n",
       "18205           M  exame_32   0.07820\n",
       "18206           M  exame_32   0.12400\n",
       "18207           B  exame_32   0.07039\n",
       "\n",
       "[18208 rows x 3 columns]"
      ]
     },
     "execution_count": 9,
     "metadata": {},
     "output_type": "execute_result"
    }
   ],
   "source": [
    "# Ajuste dos dados\n",
    "\n",
    "dados_plot = pd.concat([diagnostico, valores_exames_v1], axis = 1)\n",
    "dados_plot = pd.melt(dados_plot, id_vars = \"diagnostico\", \n",
    "                     var_name = \"exames\", \n",
    "                     value_name = 'valores')\n",
    "dados_plot"
   ]
  },
  {
   "cell_type": "code",
   "execution_count": 10,
   "id": "b092c6f8",
   "metadata": {},
   "outputs": [
    {
     "ename": "AttributeError",
     "evalue": "module 'numpy' has no attribute 'asscalar'",
     "output_type": "error",
     "traceback": [
      "\u001b[0;31m---------------------------------------------------------------------------\u001b[0m",
      "\u001b[0;31mAttributeError\u001b[0m                            Traceback (most recent call last)",
      "Cell \u001b[0;32mIn[10], line 3\u001b[0m\n\u001b[1;32m      1\u001b[0m \u001b[38;5;28;01mimport\u001b[39;00m \u001b[38;5;21;01mseaborn\u001b[39;00m \u001b[38;5;28;01mas\u001b[39;00m \u001b[38;5;21;01msns\u001b[39;00m\n\u001b[0;32m----> 3\u001b[0m sns\u001b[38;5;241m.\u001b[39mviolinplot(x \u001b[38;5;241m=\u001b[39m \u001b[38;5;124m\"\u001b[39m\u001b[38;5;124mexames\u001b[39m\u001b[38;5;124m\"\u001b[39m, y \u001b[38;5;241m=\u001b[39m \u001b[38;5;124m\"\u001b[39m\u001b[38;5;124mvalores\u001b[39m\u001b[38;5;124m\"\u001b[39m, hue \u001b[38;5;241m=\u001b[39m \u001b[38;5;124m\"\u001b[39m\u001b[38;5;124mdiagnostico\u001b[39m\u001b[38;5;124m\"\u001b[39m, \n\u001b[1;32m      4\u001b[0m               data \u001b[38;5;241m=\u001b[39m dados_plot)\n",
      "File \u001b[0;32m~/anaconda3/lib/python3.11/site-packages/seaborn/categorical.py:2392\u001b[0m, in \u001b[0;36mviolinplot\u001b[0;34m(x, y, hue, data, order, hue_order, bw, cut, scale, scale_hue, gridsize, width, inner, split, dodge, orient, linewidth, color, palette, saturation, ax, **kwargs)\u001b[0m\n\u001b[1;32m   2389\u001b[0m \u001b[38;5;28;01mif\u001b[39;00m ax \u001b[38;5;129;01mis\u001b[39;00m \u001b[38;5;28;01mNone\u001b[39;00m:\n\u001b[1;32m   2390\u001b[0m     ax \u001b[38;5;241m=\u001b[39m plt\u001b[38;5;241m.\u001b[39mgca()\n\u001b[0;32m-> 2392\u001b[0m plotter\u001b[38;5;241m.\u001b[39mplot(ax)\n\u001b[1;32m   2393\u001b[0m \u001b[38;5;28;01mreturn\u001b[39;00m ax\n",
      "File \u001b[0;32m~/anaconda3/lib/python3.11/site-packages/seaborn/categorical.py:1091\u001b[0m, in \u001b[0;36m_ViolinPlotter.plot\u001b[0;34m(self, ax)\u001b[0m\n\u001b[1;32m   1089\u001b[0m \u001b[38;5;28;01mdef\u001b[39;00m \u001b[38;5;21mplot\u001b[39m(\u001b[38;5;28mself\u001b[39m, ax):\n\u001b[1;32m   1090\u001b[0m \u001b[38;5;250m    \u001b[39m\u001b[38;5;124;03m\"\"\"Make the violin plot.\"\"\"\u001b[39;00m\n\u001b[0;32m-> 1091\u001b[0m     \u001b[38;5;28mself\u001b[39m\u001b[38;5;241m.\u001b[39mdraw_violins(ax)\n\u001b[1;32m   1092\u001b[0m     \u001b[38;5;28mself\u001b[39m\u001b[38;5;241m.\u001b[39mannotate_axes(ax)\n\u001b[1;32m   1093\u001b[0m     \u001b[38;5;28;01mif\u001b[39;00m \u001b[38;5;28mself\u001b[39m\u001b[38;5;241m.\u001b[39morient \u001b[38;5;241m==\u001b[39m \u001b[38;5;124m\"\u001b[39m\u001b[38;5;124mh\u001b[39m\u001b[38;5;124m\"\u001b[39m:\n",
      "File \u001b[0;32m~/anaconda3/lib/python3.11/site-packages/seaborn/categorical.py:883\u001b[0m, in \u001b[0;36m_ViolinPlotter.draw_violins\u001b[0;34m(self, ax)\u001b[0m\n\u001b[1;32m    881\u001b[0m \u001b[38;5;66;03m# Handle the special case where we have one observation\u001b[39;00m\n\u001b[1;32m    882\u001b[0m \u001b[38;5;28;01melif\u001b[39;00m support\u001b[38;5;241m.\u001b[39msize \u001b[38;5;241m==\u001b[39m \u001b[38;5;241m1\u001b[39m:\n\u001b[0;32m--> 883\u001b[0m     val \u001b[38;5;241m=\u001b[39m np\u001b[38;5;241m.\u001b[39masscalar(support)\n\u001b[1;32m    884\u001b[0m     d \u001b[38;5;241m=\u001b[39m np\u001b[38;5;241m.\u001b[39masscalar(density)\n\u001b[1;32m    885\u001b[0m     \u001b[38;5;28;01mif\u001b[39;00m \u001b[38;5;28mself\u001b[39m\u001b[38;5;241m.\u001b[39msplit:\n",
      "File \u001b[0;32m~/anaconda3/lib/python3.11/site-packages/numpy/__init__.py:311\u001b[0m, in \u001b[0;36m__getattr__\u001b[0;34m(attr)\u001b[0m\n\u001b[1;32m    308\u001b[0m     \u001b[38;5;28;01mfrom\u001b[39;00m \u001b[38;5;21;01m.\u001b[39;00m\u001b[38;5;21;01mtesting\u001b[39;00m \u001b[38;5;28;01mimport\u001b[39;00m Tester\n\u001b[1;32m    309\u001b[0m     \u001b[38;5;28;01mreturn\u001b[39;00m Tester\n\u001b[0;32m--> 311\u001b[0m \u001b[38;5;28;01mraise\u001b[39;00m \u001b[38;5;167;01mAttributeError\u001b[39;00m(\u001b[38;5;124m\"\u001b[39m\u001b[38;5;124mmodule \u001b[39m\u001b[38;5;132;01m{!r}\u001b[39;00m\u001b[38;5;124m has no attribute \u001b[39m\u001b[38;5;124m\"\u001b[39m\n\u001b[1;32m    312\u001b[0m                      \u001b[38;5;124m\"\u001b[39m\u001b[38;5;132;01m{!r}\u001b[39;00m\u001b[38;5;124m\"\u001b[39m\u001b[38;5;241m.\u001b[39mformat(\u001b[38;5;18m__name__\u001b[39m, attr))\n",
      "\u001b[0;31mAttributeError\u001b[0m: module 'numpy' has no attribute 'asscalar'"
     ]
    },
    {
     "data": {
      "image/png": "[encoded data removed]",
      "text/plain": [
       "<Figure size 640x480 with 1 Axes>"
      ]
     },
     "metadata": {},
     "output_type": "display_data"
    }
   ],
   "source": [
    "import seaborn as sns\n",
    "\n",
    "sns.violinplot(x = \"exames\", y = \"valores\", hue = \"diagnostico\", \n",
    "              data = dados_plot)"
   ]
  },
  {
   "cell_type": "code",
   "execution_count": null,
   "id": "fa2ca703",
   "metadata": {},
   "outputs": [],
   "source": []
  }
 ],
 "metadata": {
  "kernelspec": {
   "display_name": "Python 3 (ipykernel)",
   "language": "python",
   "name": "python3"
  },
  "language_info": {
   "codemirror_mode": {
    "name": "ipython",
    "version": 3
   },
   "file_extension": ".py",
   "mimetype": "text/x-python",
   "name": "python",
   "nbconvert_exporter": "python",
   "pygments_lexer": "ipython3",
   "version": "3.11.3"
  }
 },
 "nbformat": 4,
 "nbformat_minor": 5
}
